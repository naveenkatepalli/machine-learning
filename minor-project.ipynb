{
    "cells": [
        {
            "cell_type": "markdown",
            "source": [
                "k-nearest-neighbor algorithm"
            ],
            "metadata": {}
        },
        {
            "cell_type": "code",
            "execution_count": 57,
            "source": [
                "import pandas as pd\r\n",
                "df = pd.read_csv(r\"C:\\Users\\Naveen\\Desktop\\Iris (1).csv\")\r\n",
                "df"
            ],
            "outputs": [
                {
                    "output_type": "execute_result",
                    "data": {
                        "text/plain": [
                            "      Id  SepalLengthCm  SepalWidthCm  PetalLengthCm  PetalWidthCm  \\\n",
                            "0      1            5.1           3.5            1.4           0.2   \n",
                            "1      2            4.9           3.0            1.4           0.2   \n",
                            "2      3            4.7           3.2            1.3           0.2   \n",
                            "3      4            4.6           3.1            1.5           0.2   \n",
                            "4      5            5.0           3.6            1.4           0.2   \n",
                            "..   ...            ...           ...            ...           ...   \n",
                            "145  146            6.7           3.0            5.2           2.3   \n",
                            "146  147            6.3           2.5            5.0           1.9   \n",
                            "147  148            6.5           3.0            5.2           2.0   \n",
                            "148  149            6.2           3.4            5.4           2.3   \n",
                            "149  150            5.9           3.0            5.1           1.8   \n",
                            "\n",
                            "            Species  \n",
                            "0       Iris-setosa  \n",
                            "1       Iris-setosa  \n",
                            "2       Iris-setosa  \n",
                            "3       Iris-setosa  \n",
                            "4       Iris-setosa  \n",
                            "..              ...  \n",
                            "145  Iris-virginica  \n",
                            "146  Iris-virginica  \n",
                            "147  Iris-virginica  \n",
                            "148  Iris-virginica  \n",
                            "149  Iris-virginica  \n",
                            "\n",
                            "[150 rows x 6 columns]"
                        ],
                        "text/html": [
                            "<div>\n",
                            "<style scoped>\n",
                            "    .dataframe tbody tr th:only-of-type {\n",
                            "        vertical-align: middle;\n",
                            "    }\n",
                            "\n",
                            "    .dataframe tbody tr th {\n",
                            "        vertical-align: top;\n",
                            "    }\n",
                            "\n",
                            "    .dataframe thead th {\n",
                            "        text-align: right;\n",
                            "    }\n",
                            "</style>\n",
                            "<table border=\"1\" class=\"dataframe\">\n",
                            "  <thead>\n",
                            "    <tr style=\"text-align: right;\">\n",
                            "      <th></th>\n",
                            "      <th>Id</th>\n",
                            "      <th>SepalLengthCm</th>\n",
                            "      <th>SepalWidthCm</th>\n",
                            "      <th>PetalLengthCm</th>\n",
                            "      <th>PetalWidthCm</th>\n",
                            "      <th>Species</th>\n",
                            "    </tr>\n",
                            "  </thead>\n",
                            "  <tbody>\n",
                            "    <tr>\n",
                            "      <th>0</th>\n",
                            "      <td>1</td>\n",
                            "      <td>5.1</td>\n",
                            "      <td>3.5</td>\n",
                            "      <td>1.4</td>\n",
                            "      <td>0.2</td>\n",
                            "      <td>Iris-setosa</td>\n",
                            "    </tr>\n",
                            "    <tr>\n",
                            "      <th>1</th>\n",
                            "      <td>2</td>\n",
                            "      <td>4.9</td>\n",
                            "      <td>3.0</td>\n",
                            "      <td>1.4</td>\n",
                            "      <td>0.2</td>\n",
                            "      <td>Iris-setosa</td>\n",
                            "    </tr>\n",
                            "    <tr>\n",
                            "      <th>2</th>\n",
                            "      <td>3</td>\n",
                            "      <td>4.7</td>\n",
                            "      <td>3.2</td>\n",
                            "      <td>1.3</td>\n",
                            "      <td>0.2</td>\n",
                            "      <td>Iris-setosa</td>\n",
                            "    </tr>\n",
                            "    <tr>\n",
                            "      <th>3</th>\n",
                            "      <td>4</td>\n",
                            "      <td>4.6</td>\n",
                            "      <td>3.1</td>\n",
                            "      <td>1.5</td>\n",
                            "      <td>0.2</td>\n",
                            "      <td>Iris-setosa</td>\n",
                            "    </tr>\n",
                            "    <tr>\n",
                            "      <th>4</th>\n",
                            "      <td>5</td>\n",
                            "      <td>5.0</td>\n",
                            "      <td>3.6</td>\n",
                            "      <td>1.4</td>\n",
                            "      <td>0.2</td>\n",
                            "      <td>Iris-setosa</td>\n",
                            "    </tr>\n",
                            "    <tr>\n",
                            "      <th>...</th>\n",
                            "      <td>...</td>\n",
                            "      <td>...</td>\n",
                            "      <td>...</td>\n",
                            "      <td>...</td>\n",
                            "      <td>...</td>\n",
                            "      <td>...</td>\n",
                            "    </tr>\n",
                            "    <tr>\n",
                            "      <th>145</th>\n",
                            "      <td>146</td>\n",
                            "      <td>6.7</td>\n",
                            "      <td>3.0</td>\n",
                            "      <td>5.2</td>\n",
                            "      <td>2.3</td>\n",
                            "      <td>Iris-virginica</td>\n",
                            "    </tr>\n",
                            "    <tr>\n",
                            "      <th>146</th>\n",
                            "      <td>147</td>\n",
                            "      <td>6.3</td>\n",
                            "      <td>2.5</td>\n",
                            "      <td>5.0</td>\n",
                            "      <td>1.9</td>\n",
                            "      <td>Iris-virginica</td>\n",
                            "    </tr>\n",
                            "    <tr>\n",
                            "      <th>147</th>\n",
                            "      <td>148</td>\n",
                            "      <td>6.5</td>\n",
                            "      <td>3.0</td>\n",
                            "      <td>5.2</td>\n",
                            "      <td>2.0</td>\n",
                            "      <td>Iris-virginica</td>\n",
                            "    </tr>\n",
                            "    <tr>\n",
                            "      <th>148</th>\n",
                            "      <td>149</td>\n",
                            "      <td>6.2</td>\n",
                            "      <td>3.4</td>\n",
                            "      <td>5.4</td>\n",
                            "      <td>2.3</td>\n",
                            "      <td>Iris-virginica</td>\n",
                            "    </tr>\n",
                            "    <tr>\n",
                            "      <th>149</th>\n",
                            "      <td>150</td>\n",
                            "      <td>5.9</td>\n",
                            "      <td>3.0</td>\n",
                            "      <td>5.1</td>\n",
                            "      <td>1.8</td>\n",
                            "      <td>Iris-virginica</td>\n",
                            "    </tr>\n",
                            "  </tbody>\n",
                            "</table>\n",
                            "<p>150 rows × 6 columns</p>\n",
                            "</div>"
                        ]
                    },
                    "metadata": {},
                    "execution_count": 57
                }
            ],
            "metadata": {}
        },
        {
            "cell_type": "code",
            "execution_count": 58,
            "source": [
                "df.isnull().sum()"
            ],
            "outputs": [
                {
                    "output_type": "execute_result",
                    "data": {
                        "text/plain": [
                            "Id               0\n",
                            "SepalLengthCm    0\n",
                            "SepalWidthCm     0\n",
                            "PetalLengthCm    0\n",
                            "PetalWidthCm     0\n",
                            "Species          0\n",
                            "dtype: int64"
                        ]
                    },
                    "metadata": {},
                    "execution_count": 58
                }
            ],
            "metadata": {}
        },
        {
            "cell_type": "code",
            "execution_count": 59,
            "source": [
                "x=df.iloc[:,1:5].values\r\n",
                "y=df.iloc[:,5].values"
            ],
            "outputs": [],
            "metadata": {}
        },
        {
            "cell_type": "code",
            "execution_count": 60,
            "source": [
                "from sklearn.model_selection import train_test_split\r\n",
                "x_train, x_test, y_train, y_test = train_test_split(x, y, test_size=0.2, random_state=0)"
            ],
            "outputs": [],
            "metadata": {}
        },
        {
            "cell_type": "code",
            "execution_count": 61,
            "source": [
                "from sklearn.neighbors import KNeighborsClassifier"
            ],
            "outputs": [],
            "metadata": {}
        },
        {
            "cell_type": "code",
            "execution_count": 62,
            "source": [
                "knn=KNeighborsClassifier(metric=\"euclidean\")"
            ],
            "outputs": [],
            "metadata": {}
        },
        {
            "cell_type": "code",
            "execution_count": 63,
            "source": [
                "knn.fit(x_train,y_train)"
            ],
            "outputs": [
                {
                    "output_type": "execute_result",
                    "data": {
                        "text/plain": [
                            "KNeighborsClassifier(metric='euclidean')"
                        ]
                    },
                    "metadata": {},
                    "execution_count": 63
                }
            ],
            "metadata": {}
        },
        {
            "cell_type": "code",
            "execution_count": 64,
            "source": [
                "y_pred=knn.predict(x_test)\r\n",
                "y_pred"
            ],
            "outputs": [
                {
                    "output_type": "execute_result",
                    "data": {
                        "text/plain": [
                            "array(['Iris-virginica', 'Iris-versicolor', 'Iris-setosa',\n",
                            "       'Iris-virginica', 'Iris-setosa', 'Iris-virginica', 'Iris-setosa',\n",
                            "       'Iris-versicolor', 'Iris-versicolor', 'Iris-versicolor',\n",
                            "       'Iris-virginica', 'Iris-versicolor', 'Iris-versicolor',\n",
                            "       'Iris-versicolor', 'Iris-virginica', 'Iris-setosa',\n",
                            "       'Iris-versicolor', 'Iris-versicolor', 'Iris-setosa', 'Iris-setosa',\n",
                            "       'Iris-virginica', 'Iris-versicolor', 'Iris-setosa', 'Iris-setosa',\n",
                            "       'Iris-virginica', 'Iris-setosa', 'Iris-setosa', 'Iris-versicolor',\n",
                            "       'Iris-versicolor', 'Iris-setosa'], dtype=object)"
                        ]
                    },
                    "metadata": {},
                    "execution_count": 64
                }
            ],
            "metadata": {}
        },
        {
            "cell_type": "code",
            "execution_count": 65,
            "source": [
                "y_test"
            ],
            "outputs": [
                {
                    "output_type": "execute_result",
                    "data": {
                        "text/plain": [
                            "array(['Iris-virginica', 'Iris-versicolor', 'Iris-setosa',\n",
                            "       'Iris-virginica', 'Iris-setosa', 'Iris-virginica', 'Iris-setosa',\n",
                            "       'Iris-versicolor', 'Iris-versicolor', 'Iris-versicolor',\n",
                            "       'Iris-virginica', 'Iris-versicolor', 'Iris-versicolor',\n",
                            "       'Iris-versicolor', 'Iris-versicolor', 'Iris-setosa',\n",
                            "       'Iris-versicolor', 'Iris-versicolor', 'Iris-setosa', 'Iris-setosa',\n",
                            "       'Iris-virginica', 'Iris-versicolor', 'Iris-setosa', 'Iris-setosa',\n",
                            "       'Iris-virginica', 'Iris-setosa', 'Iris-setosa', 'Iris-versicolor',\n",
                            "       'Iris-versicolor', 'Iris-setosa'], dtype=object)"
                        ]
                    },
                    "metadata": {},
                    "execution_count": 65
                }
            ],
            "metadata": {}
        },
        {
            "cell_type": "code",
            "execution_count": 66,
            "source": [
                "knn.predict([[3,4,5,2]])"
            ],
            "outputs": [
                {
                    "output_type": "execute_result",
                    "data": {
                        "text/plain": [
                            "array(['Iris-versicolor'], dtype=object)"
                        ]
                    },
                    "metadata": {},
                    "execution_count": 66
                }
            ],
            "metadata": {}
        },
        {
            "cell_type": "code",
            "execution_count": 67,
            "source": [
                "from sklearn.metrics import confusion_matrix,accuracy_score\r\n",
                "accuracy_score(y_test,y_pred)"
            ],
            "outputs": [
                {
                    "output_type": "execute_result",
                    "data": {
                        "text/plain": [
                            "0.9666666666666667"
                        ]
                    },
                    "metadata": {},
                    "execution_count": 67
                }
            ],
            "metadata": {}
        },
        {
            "cell_type": "code",
            "execution_count": 68,
            "source": [
                "confusion_matrix(y_test,y_pred)"
            ],
            "outputs": [
                {
                    "output_type": "execute_result",
                    "data": {
                        "text/plain": [
                            "array([[11,  0,  0],\n",
                            "       [ 0, 12,  1],\n",
                            "       [ 0,  0,  6]], dtype=int64)"
                        ]
                    },
                    "metadata": {},
                    "execution_count": 68
                }
            ],
            "metadata": {}
        },
        {
            "cell_type": "markdown",
            "source": [
                "decision tree"
            ],
            "metadata": {}
        },
        {
            "cell_type": "code",
            "execution_count": 69,
            "source": [
                "import pandas as pd\r\n",
                "df = pd.read_csv(r\"C:\\Users\\Naveen\\Downloads\\Iris (1).csv\")\r\n",
                "df"
            ],
            "outputs": [
                {
                    "output_type": "execute_result",
                    "data": {
                        "text/plain": [
                            "      Id  SepalLengthCm  SepalWidthCm  PetalLengthCm  PetalWidthCm  \\\n",
                            "0      1            5.1           3.5            1.4           0.2   \n",
                            "1      2            4.9           3.0            1.4           0.2   \n",
                            "2      3            4.7           3.2            1.3           0.2   \n",
                            "3      4            4.6           3.1            1.5           0.2   \n",
                            "4      5            5.0           3.6            1.4           0.2   \n",
                            "..   ...            ...           ...            ...           ...   \n",
                            "145  146            6.7           3.0            5.2           2.3   \n",
                            "146  147            6.3           2.5            5.0           1.9   \n",
                            "147  148            6.5           3.0            5.2           2.0   \n",
                            "148  149            6.2           3.4            5.4           2.3   \n",
                            "149  150            5.9           3.0            5.1           1.8   \n",
                            "\n",
                            "            Species  \n",
                            "0       Iris-setosa  \n",
                            "1       Iris-setosa  \n",
                            "2       Iris-setosa  \n",
                            "3       Iris-setosa  \n",
                            "4       Iris-setosa  \n",
                            "..              ...  \n",
                            "145  Iris-virginica  \n",
                            "146  Iris-virginica  \n",
                            "147  Iris-virginica  \n",
                            "148  Iris-virginica  \n",
                            "149  Iris-virginica  \n",
                            "\n",
                            "[150 rows x 6 columns]"
                        ],
                        "text/html": [
                            "<div>\n",
                            "<style scoped>\n",
                            "    .dataframe tbody tr th:only-of-type {\n",
                            "        vertical-align: middle;\n",
                            "    }\n",
                            "\n",
                            "    .dataframe tbody tr th {\n",
                            "        vertical-align: top;\n",
                            "    }\n",
                            "\n",
                            "    .dataframe thead th {\n",
                            "        text-align: right;\n",
                            "    }\n",
                            "</style>\n",
                            "<table border=\"1\" class=\"dataframe\">\n",
                            "  <thead>\n",
                            "    <tr style=\"text-align: right;\">\n",
                            "      <th></th>\n",
                            "      <th>Id</th>\n",
                            "      <th>SepalLengthCm</th>\n",
                            "      <th>SepalWidthCm</th>\n",
                            "      <th>PetalLengthCm</th>\n",
                            "      <th>PetalWidthCm</th>\n",
                            "      <th>Species</th>\n",
                            "    </tr>\n",
                            "  </thead>\n",
                            "  <tbody>\n",
                            "    <tr>\n",
                            "      <th>0</th>\n",
                            "      <td>1</td>\n",
                            "      <td>5.1</td>\n",
                            "      <td>3.5</td>\n",
                            "      <td>1.4</td>\n",
                            "      <td>0.2</td>\n",
                            "      <td>Iris-setosa</td>\n",
                            "    </tr>\n",
                            "    <tr>\n",
                            "      <th>1</th>\n",
                            "      <td>2</td>\n",
                            "      <td>4.9</td>\n",
                            "      <td>3.0</td>\n",
                            "      <td>1.4</td>\n",
                            "      <td>0.2</td>\n",
                            "      <td>Iris-setosa</td>\n",
                            "    </tr>\n",
                            "    <tr>\n",
                            "      <th>2</th>\n",
                            "      <td>3</td>\n",
                            "      <td>4.7</td>\n",
                            "      <td>3.2</td>\n",
                            "      <td>1.3</td>\n",
                            "      <td>0.2</td>\n",
                            "      <td>Iris-setosa</td>\n",
                            "    </tr>\n",
                            "    <tr>\n",
                            "      <th>3</th>\n",
                            "      <td>4</td>\n",
                            "      <td>4.6</td>\n",
                            "      <td>3.1</td>\n",
                            "      <td>1.5</td>\n",
                            "      <td>0.2</td>\n",
                            "      <td>Iris-setosa</td>\n",
                            "    </tr>\n",
                            "    <tr>\n",
                            "      <th>4</th>\n",
                            "      <td>5</td>\n",
                            "      <td>5.0</td>\n",
                            "      <td>3.6</td>\n",
                            "      <td>1.4</td>\n",
                            "      <td>0.2</td>\n",
                            "      <td>Iris-setosa</td>\n",
                            "    </tr>\n",
                            "    <tr>\n",
                            "      <th>...</th>\n",
                            "      <td>...</td>\n",
                            "      <td>...</td>\n",
                            "      <td>...</td>\n",
                            "      <td>...</td>\n",
                            "      <td>...</td>\n",
                            "      <td>...</td>\n",
                            "    </tr>\n",
                            "    <tr>\n",
                            "      <th>145</th>\n",
                            "      <td>146</td>\n",
                            "      <td>6.7</td>\n",
                            "      <td>3.0</td>\n",
                            "      <td>5.2</td>\n",
                            "      <td>2.3</td>\n",
                            "      <td>Iris-virginica</td>\n",
                            "    </tr>\n",
                            "    <tr>\n",
                            "      <th>146</th>\n",
                            "      <td>147</td>\n",
                            "      <td>6.3</td>\n",
                            "      <td>2.5</td>\n",
                            "      <td>5.0</td>\n",
                            "      <td>1.9</td>\n",
                            "      <td>Iris-virginica</td>\n",
                            "    </tr>\n",
                            "    <tr>\n",
                            "      <th>147</th>\n",
                            "      <td>148</td>\n",
                            "      <td>6.5</td>\n",
                            "      <td>3.0</td>\n",
                            "      <td>5.2</td>\n",
                            "      <td>2.0</td>\n",
                            "      <td>Iris-virginica</td>\n",
                            "    </tr>\n",
                            "    <tr>\n",
                            "      <th>148</th>\n",
                            "      <td>149</td>\n",
                            "      <td>6.2</td>\n",
                            "      <td>3.4</td>\n",
                            "      <td>5.4</td>\n",
                            "      <td>2.3</td>\n",
                            "      <td>Iris-virginica</td>\n",
                            "    </tr>\n",
                            "    <tr>\n",
                            "      <th>149</th>\n",
                            "      <td>150</td>\n",
                            "      <td>5.9</td>\n",
                            "      <td>3.0</td>\n",
                            "      <td>5.1</td>\n",
                            "      <td>1.8</td>\n",
                            "      <td>Iris-virginica</td>\n",
                            "    </tr>\n",
                            "  </tbody>\n",
                            "</table>\n",
                            "<p>150 rows × 6 columns</p>\n",
                            "</div>"
                        ]
                    },
                    "metadata": {},
                    "execution_count": 69
                }
            ],
            "metadata": {}
        },
        {
            "cell_type": "code",
            "execution_count": 70,
            "source": [
                "x=df.iloc[:,1:5].values\r\n",
                "y=df.iloc[:,5].values"
            ],
            "outputs": [],
            "metadata": {}
        },
        {
            "cell_type": "code",
            "execution_count": 71,
            "source": [
                "from sklearn.model_selection import train_test_split\r\n",
                "x_train, x_test, y_train, y_test = train_test_split(x, y, test_size=0.2, random_state=0)"
            ],
            "outputs": [],
            "metadata": {}
        },
        {
            "cell_type": "code",
            "execution_count": 72,
            "source": [
                "from sklearn.tree import DecisionTreeClassifier\r\n",
                "dtc = DecisionTreeClassifier(random_state=0)"
            ],
            "outputs": [],
            "metadata": {}
        },
        {
            "cell_type": "code",
            "execution_count": 73,
            "source": [
                "dtc.fit(x_train, y_train)"
            ],
            "outputs": [
                {
                    "output_type": "execute_result",
                    "data": {
                        "text/plain": [
                            "DecisionTreeClassifier(random_state=0)"
                        ]
                    },
                    "metadata": {},
                    "execution_count": 73
                }
            ],
            "metadata": {}
        },
        {
            "cell_type": "code",
            "execution_count": 74,
            "source": [
                "y_pred = dtc.predict(x_test)"
            ],
            "outputs": [],
            "metadata": {}
        },
        {
            "cell_type": "code",
            "execution_count": 75,
            "source": [
                "y_test"
            ],
            "outputs": [
                {
                    "output_type": "execute_result",
                    "data": {
                        "text/plain": [
                            "array(['Iris-virginica', 'Iris-versicolor', 'Iris-setosa',\n",
                            "       'Iris-virginica', 'Iris-setosa', 'Iris-virginica', 'Iris-setosa',\n",
                            "       'Iris-versicolor', 'Iris-versicolor', 'Iris-versicolor',\n",
                            "       'Iris-virginica', 'Iris-versicolor', 'Iris-versicolor',\n",
                            "       'Iris-versicolor', 'Iris-versicolor', 'Iris-setosa',\n",
                            "       'Iris-versicolor', 'Iris-versicolor', 'Iris-setosa', 'Iris-setosa',\n",
                            "       'Iris-virginica', 'Iris-versicolor', 'Iris-setosa', 'Iris-setosa',\n",
                            "       'Iris-virginica', 'Iris-setosa', 'Iris-setosa', 'Iris-versicolor',\n",
                            "       'Iris-versicolor', 'Iris-setosa'], dtype=object)"
                        ]
                    },
                    "metadata": {},
                    "execution_count": 75
                }
            ],
            "metadata": {}
        },
        {
            "cell_type": "code",
            "execution_count": 76,
            "source": [
                "y_pred"
            ],
            "outputs": [
                {
                    "output_type": "execute_result",
                    "data": {
                        "text/plain": [
                            "array(['Iris-virginica', 'Iris-versicolor', 'Iris-setosa',\n",
                            "       'Iris-virginica', 'Iris-setosa', 'Iris-virginica', 'Iris-setosa',\n",
                            "       'Iris-versicolor', 'Iris-versicolor', 'Iris-versicolor',\n",
                            "       'Iris-virginica', 'Iris-versicolor', 'Iris-versicolor',\n",
                            "       'Iris-versicolor', 'Iris-versicolor', 'Iris-setosa',\n",
                            "       'Iris-versicolor', 'Iris-versicolor', 'Iris-setosa', 'Iris-setosa',\n",
                            "       'Iris-virginica', 'Iris-versicolor', 'Iris-setosa', 'Iris-setosa',\n",
                            "       'Iris-virginica', 'Iris-setosa', 'Iris-setosa', 'Iris-versicolor',\n",
                            "       'Iris-versicolor', 'Iris-setosa'], dtype=object)"
                        ]
                    },
                    "metadata": {},
                    "execution_count": 76
                }
            ],
            "metadata": {}
        },
        {
            "cell_type": "code",
            "execution_count": 77,
            "source": [
                "from sklearn.metrics import confusion_matrix, accuracy_score"
            ],
            "outputs": [],
            "metadata": {}
        },
        {
            "cell_type": "code",
            "execution_count": 78,
            "source": [
                "accuracy_score(y_test, y_pred)"
            ],
            "outputs": [
                {
                    "output_type": "execute_result",
                    "data": {
                        "text/plain": [
                            "1.0"
                        ]
                    },
                    "metadata": {},
                    "execution_count": 78
                }
            ],
            "metadata": {}
        },
        {
            "cell_type": "code",
            "execution_count": 79,
            "source": [
                "confusion_matrix(y_test,y_pred)"
            ],
            "outputs": [
                {
                    "output_type": "execute_result",
                    "data": {
                        "text/plain": [
                            "array([[11,  0,  0],\n",
                            "       [ 0, 13,  0],\n",
                            "       [ 0,  0,  6]], dtype=int64)"
                        ]
                    },
                    "metadata": {},
                    "execution_count": 79
                }
            ],
            "metadata": {}
        }
    ],
    "metadata": {
        "orig_nbformat": 4,
        "language_info": {
            "name": "python",
            "version": "3.8.8",
            "mimetype": "text/x-python",
            "codemirror_mode": {
                "name": "ipython",
                "version": 3
            },
            "pygments_lexer": "ipython3",
            "nbconvert_exporter": "python",
            "file_extension": ".py"
        },
        "kernelspec": {
            "name": "python3",
            "display_name": "Python 3.8.8 64-bit ('base': conda)"
        },
        "interpreter": {
            "hash": "edcff60ab79fcf0c080d34c80972e1cfa458862cf279c475c074d89b44b2cf7e"
        }
    },
    "nbformat": 4,
    "nbformat_minor": 2
}