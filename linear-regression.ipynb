{
    "cells": [
        {
            "cell_type": "code",
            "execution_count": 1,
            "metadata": {},
            "outputs": [
                {
                    "data": {
                        "text/html": [
                            "<div>\n",
                            "<style scoped>\n",
                            "    .dataframe tbody tr th:only-of-type {\n",
                            "        vertical-align: middle;\n",
                            "    }\n",
                            "\n",
                            "    .dataframe tbody tr th {\n",
                            "        vertical-align: top;\n",
                            "    }\n",
                            "\n",
                            "    .dataframe thead th {\n",
                            "        text-align: right;\n",
                            "    }\n",
                            "</style>\n",
                            "<table border=\"1\" class=\"dataframe\">\n",
                            "  <thead>\n",
                            "    <tr style=\"text-align: right;\">\n",
                            "      <th></th>\n",
                            "      <th>Carname</th>\n",
                            "      <th>Color</th>\n",
                            "      <th>Age</th>\n",
                            "      <th>Speed</th>\n",
                            "      <th>AutoPass</th>\n",
                            "    </tr>\n",
                            "  </thead>\n",
                            "  <tbody>\n",
                            "    <tr>\n",
                            "      <th>0</th>\n",
                            "      <td>BMW</td>\n",
                            "      <td>red</td>\n",
                            "      <td>5</td>\n",
                            "      <td>99</td>\n",
                            "      <td>Y</td>\n",
                            "    </tr>\n",
                            "    <tr>\n",
                            "      <th>1</th>\n",
                            "      <td>Volvo</td>\n",
                            "      <td>black</td>\n",
                            "      <td>7</td>\n",
                            "      <td>86</td>\n",
                            "      <td>Y</td>\n",
                            "    </tr>\n",
                            "    <tr>\n",
                            "      <th>2</th>\n",
                            "      <td>VW</td>\n",
                            "      <td>gray</td>\n",
                            "      <td>8</td>\n",
                            "      <td>87</td>\n",
                            "      <td>N</td>\n",
                            "    </tr>\n",
                            "    <tr>\n",
                            "      <th>3</th>\n",
                            "      <td>VW</td>\n",
                            "      <td>white</td>\n",
                            "      <td>7</td>\n",
                            "      <td>88</td>\n",
                            "      <td>Y</td>\n",
                            "    </tr>\n",
                            "    <tr>\n",
                            "      <th>4</th>\n",
                            "      <td>Ford</td>\n",
                            "      <td>white</td>\n",
                            "      <td>2</td>\n",
                            "      <td>111</td>\n",
                            "      <td>Y</td>\n",
                            "    </tr>\n",
                            "    <tr>\n",
                            "      <th>5</th>\n",
                            "      <td>VW</td>\n",
                            "      <td>white</td>\n",
                            "      <td>17</td>\n",
                            "      <td>86</td>\n",
                            "      <td>Y</td>\n",
                            "    </tr>\n",
                            "    <tr>\n",
                            "      <th>6</th>\n",
                            "      <td>Tesla</td>\n",
                            "      <td>red</td>\n",
                            "      <td>2</td>\n",
                            "      <td>103</td>\n",
                            "      <td>Y</td>\n",
                            "    </tr>\n",
                            "    <tr>\n",
                            "      <th>7</th>\n",
                            "      <td>BMW</td>\n",
                            "      <td>black</td>\n",
                            "      <td>9</td>\n",
                            "      <td>87</td>\n",
                            "      <td>Y</td>\n",
                            "    </tr>\n",
                            "    <tr>\n",
                            "      <th>8</th>\n",
                            "      <td>Volvo</td>\n",
                            "      <td>gray</td>\n",
                            "      <td>4</td>\n",
                            "      <td>94</td>\n",
                            "      <td>N</td>\n",
                            "    </tr>\n",
                            "    <tr>\n",
                            "      <th>9</th>\n",
                            "      <td>Ford</td>\n",
                            "      <td>white</td>\n",
                            "      <td>11</td>\n",
                            "      <td>78</td>\n",
                            "      <td>N</td>\n",
                            "    </tr>\n",
                            "    <tr>\n",
                            "      <th>10</th>\n",
                            "      <td>Toyota</td>\n",
                            "      <td>gray</td>\n",
                            "      <td>12</td>\n",
                            "      <td>77</td>\n",
                            "      <td>N</td>\n",
                            "    </tr>\n",
                            "    <tr>\n",
                            "      <th>11</th>\n",
                            "      <td>VW</td>\n",
                            "      <td>white</td>\n",
                            "      <td>9</td>\n",
                            "      <td>85</td>\n",
                            "      <td>N</td>\n",
                            "    </tr>\n",
                            "    <tr>\n",
                            "      <th>12</th>\n",
                            "      <td>Toyota</td>\n",
                            "      <td>blue</td>\n",
                            "      <td>6</td>\n",
                            "      <td>86</td>\n",
                            "      <td>Y</td>\n",
                            "    </tr>\n",
                            "  </tbody>\n",
                            "</table>\n",
                            "</div>"
                        ],
                        "text/plain": [
                            "   Carname  Color  Age  Speed AutoPass\n",
                            "0      BMW    red    5     99        Y\n",
                            "1    Volvo  black    7     86        Y\n",
                            "2       VW   gray    8     87        N\n",
                            "3       VW  white    7     88        Y\n",
                            "4     Ford  white    2    111        Y\n",
                            "5       VW  white   17     86        Y\n",
                            "6    Tesla    red    2    103        Y\n",
                            "7      BMW  black    9     87        Y\n",
                            "8    Volvo   gray    4     94        N\n",
                            "9     Ford  white   11     78        N\n",
                            "10  Toyota   gray   12     77        N\n",
                            "11      VW  white    9     85        N\n",
                            "12  Toyota   blue    6     86        Y"
                        ]
                    },
                    "execution_count": 1,
                    "metadata": {},
                    "output_type": "execute_result"
                }
            ],
            "source": [
                "import pandas as pd\n",
                "df = pd.read_excel(r\"C:\\Users\\Naveen\\Desktop\\data sets\\dataset1.xlsx\")\n",
                "df\n"
            ]
        },
        {
            "cell_type": "code",
            "execution_count": 2,
            "metadata": {},
            "outputs": [
                {
                    "data": {
                        "text/html": [
                            "<div>\n",
                            "<style scoped>\n",
                            "    .dataframe tbody tr th:only-of-type {\n",
                            "        vertical-align: middle;\n",
                            "    }\n",
                            "\n",
                            "    .dataframe tbody tr th {\n",
                            "        vertical-align: top;\n",
                            "    }\n",
                            "\n",
                            "    .dataframe thead th {\n",
                            "        text-align: right;\n",
                            "    }\n",
                            "</style>\n",
                            "<table border=\"1\" class=\"dataframe\">\n",
                            "  <thead>\n",
                            "    <tr style=\"text-align: right;\">\n",
                            "      <th></th>\n",
                            "      <th>x</th>\n",
                            "      <th>y</th>\n",
                            "    </tr>\n",
                            "  </thead>\n",
                            "  <tbody>\n",
                            "    <tr>\n",
                            "      <th>0</th>\n",
                            "      <td>1</td>\n",
                            "      <td>2</td>\n",
                            "    </tr>\n",
                            "    <tr>\n",
                            "      <th>1</th>\n",
                            "      <td>2</td>\n",
                            "      <td>4</td>\n",
                            "    </tr>\n",
                            "    <tr>\n",
                            "      <th>2</th>\n",
                            "      <td>3</td>\n",
                            "      <td>5</td>\n",
                            "    </tr>\n",
                            "    <tr>\n",
                            "      <th>3</th>\n",
                            "      <td>4</td>\n",
                            "      <td>4</td>\n",
                            "    </tr>\n",
                            "    <tr>\n",
                            "      <th>4</th>\n",
                            "      <td>5</td>\n",
                            "      <td>5</td>\n",
                            "    </tr>\n",
                            "  </tbody>\n",
                            "</table>\n",
                            "</div>"
                        ],
                        "text/plain": [
                            "   x  y\n",
                            "0  1  2\n",
                            "1  2  4\n",
                            "2  3  5\n",
                            "3  4  4\n",
                            "4  5  5"
                        ]
                    },
                    "execution_count": 2,
                    "metadata": {},
                    "output_type": "execute_result"
                }
            ],
            "source": [
                "fd={'x':[1,2,3,4,5],'y':[2,4,5,4,5]}\n",
                "df=pd.DataFrame(fd)\n",
                "df"
            ]
        },
        {
            "cell_type": "code",
            "execution_count": 3,
            "metadata": {},
            "outputs": [
                {
                    "data": {
                        "text/plain": [
                            "array([[1],\n",
                            "       [2],\n",
                            "       [3],\n",
                            "       [4],\n",
                            "       [5]], dtype=int64)"
                        ]
                    },
                    "execution_count": 3,
                    "metadata": {},
                    "output_type": "execute_result"
                }
            ],
            "source": [
                "x=df.iloc[:,0].values.reshape(5,1)\n",
                "y=df.iloc[:,1].values\n",
                "x\n"
            ]
        },
        {
            "cell_type": "code",
            "execution_count": 4,
            "metadata": {},
            "outputs": [
                {
                    "data": {
                        "text/plain": [
                            "(5, 1)"
                        ]
                    },
                    "execution_count": 4,
                    "metadata": {},
                    "output_type": "execute_result"
                }
            ],
            "source": [
                "x.shape"
            ]
        },
        {
            "cell_type": "code",
            "execution_count": 5,
            "metadata": {},
            "outputs": [
                {
                    "data": {
                        "text/plain": [
                            "array([2, 4, 5, 4, 5], dtype=int64)"
                        ]
                    },
                    "execution_count": 5,
                    "metadata": {},
                    "output_type": "execute_result"
                }
            ],
            "source": [
                "y"
            ]
        },
        {
            "cell_type": "code",
            "execution_count": 6,
            "metadata": {},
            "outputs": [
                {
                    "data": {
                        "text/plain": [
                            "LinearRegression()"
                        ]
                    },
                    "execution_count": 6,
                    "metadata": {},
                    "output_type": "execute_result"
                }
            ],
            "source": [
                "from sklearn import linear_model\n",
                "reg=linear_model.LinearRegression()\n",
                "reg.fit(x,y)"
            ]
        },
        {
            "cell_type": "code",
            "execution_count": 7,
            "metadata": {},
            "outputs": [
                {
                    "data": {
                        "image/png": "[encoded data removed]",
                        "text/plain": [
                            "<Figure size 432x288 with 1 Axes>"
                        ]
                    },
                    "metadata": {
                        "needs_background": "light"
                    },
                    "output_type": "display_data"
                }
            ],
            "source": [
                "import matplotlib.pyplot as plt\n",
                "plt.scatter(x,y)\n",
                "plt.show()\n"
            ]
        },
        {
            "cell_type": "code",
            "execution_count": 8,
            "metadata": {},
            "outputs": [
                {
                    "data": {
                        "text/plain": [
                            "array([3.7])"
                        ]
                    },
                    "execution_count": 8,
                    "metadata": {},
                    "output_type": "execute_result"
                }
            ],
            "source": [
                "reg.predict([[2.5]])"
            ]
        },
        {
            "cell_type": "code",
            "execution_count": 9,
            "metadata": {},
            "outputs": [],
            "source": [
                "y_prid=reg.predict(x)"
            ]
        },
        {
            "cell_type": "code",
            "execution_count": 10,
            "metadata": {},
            "outputs": [
                {
                    "data": {
                        "image/png": "[encoded data removed]",
                        "text/plain": [
                            "<Figure size 432x288 with 1 Axes>"
                        ]
                    },
                    "metadata": {
                        "needs_background": "light"
                    },
                    "output_type": "display_data"
                }
            ],
            "source": [
                "plt.scatter(x,y)\n",
                "plt.plot(x,y_prid,color=\"black\")\n",
                "plt.show()\n"
            ]
        },
        {
            "cell_type": "code",
            "execution_count": 11,
            "metadata": {},
            "outputs": [
                {
                    "data": {
                        "text/plain": [
                            "array([0.6])"
                        ]
                    },
                    "execution_count": 11,
                    "metadata": {},
                    "output_type": "execute_result"
                }
            ],
            "source": [
                "reg.coef_\n"
            ]
        },
        {
            "cell_type": "code",
            "execution_count": 12,
            "metadata": {},
            "outputs": [
                {
                    "data": {
                        "text/plain": [
                            "2.1999999999999993"
                        ]
                    },
                    "execution_count": 12,
                    "metadata": {},
                    "output_type": "execute_result"
                }
            ],
            "source": [
                "reg.intercept_\n"
            ]
        },
        {
            "cell_type": "code",
            "execution_count": 13,
            "metadata": {},
            "outputs": [
                {
                    "data": {
                        "text/html": [
                            "<div>\n",
                            "<style scoped>\n",
                            "    .dataframe tbody tr th:only-of-type {\n",
                            "        vertical-align: middle;\n",
                            "    }\n",
                            "\n",
                            "    .dataframe tbody tr th {\n",
                            "        vertical-align: top;\n",
                            "    }\n",
                            "\n",
                            "    .dataframe thead th {\n",
                            "        text-align: right;\n",
                            "    }\n",
                            "</style>\n",
                            "<table border=\"1\" class=\"dataframe\">\n",
                            "  <thead>\n",
                            "    <tr style=\"text-align: right;\">\n",
                            "      <th></th>\n",
                            "      <th>TV</th>\n",
                            "      <th>Radio</th>\n",
                            "      <th>Newspaper</th>\n",
                            "      <th>Sales</th>\n",
                            "    </tr>\n",
                            "  </thead>\n",
                            "  <tbody>\n",
                            "    <tr>\n",
                            "      <th>0</th>\n",
                            "      <td>230.1</td>\n",
                            "      <td>37.8</td>\n",
                            "      <td>69.2</td>\n",
                            "      <td>22.1</td>\n",
                            "    </tr>\n",
                            "    <tr>\n",
                            "      <th>1</th>\n",
                            "      <td>44.5</td>\n",
                            "      <td>39.3</td>\n",
                            "      <td>45.1</td>\n",
                            "      <td>10.4</td>\n",
                            "    </tr>\n",
                            "    <tr>\n",
                            "      <th>2</th>\n",
                            "      <td>17.2</td>\n",
                            "      <td>45.9</td>\n",
                            "      <td>69.3</td>\n",
                            "      <td>12.0</td>\n",
                            "    </tr>\n",
                            "    <tr>\n",
                            "      <th>3</th>\n",
                            "      <td>151.5</td>\n",
                            "      <td>41.3</td>\n",
                            "      <td>58.5</td>\n",
                            "      <td>16.5</td>\n",
                            "    </tr>\n",
                            "    <tr>\n",
                            "      <th>4</th>\n",
                            "      <td>180.8</td>\n",
                            "      <td>10.8</td>\n",
                            "      <td>58.4</td>\n",
                            "      <td>17.9</td>\n",
                            "    </tr>\n",
                            "    <tr>\n",
                            "      <th>...</th>\n",
                            "      <td>...</td>\n",
                            "      <td>...</td>\n",
                            "      <td>...</td>\n",
                            "      <td>...</td>\n",
                            "    </tr>\n",
                            "    <tr>\n",
                            "      <th>195</th>\n",
                            "      <td>38.2</td>\n",
                            "      <td>3.7</td>\n",
                            "      <td>13.8</td>\n",
                            "      <td>7.6</td>\n",
                            "    </tr>\n",
                            "    <tr>\n",
                            "      <th>196</th>\n",
                            "      <td>94.2</td>\n",
                            "      <td>4.9</td>\n",
                            "      <td>8.1</td>\n",
                            "      <td>14.0</td>\n",
                            "    </tr>\n",
                            "    <tr>\n",
                            "      <th>197</th>\n",
                            "      <td>177.0</td>\n",
                            "      <td>9.3</td>\n",
                            "      <td>6.4</td>\n",
                            "      <td>14.8</td>\n",
                            "    </tr>\n",
                            "    <tr>\n",
                            "      <th>198</th>\n",
                            "      <td>283.6</td>\n",
                            "      <td>42.0</td>\n",
                            "      <td>66.2</td>\n",
                            "      <td>25.5</td>\n",
                            "    </tr>\n",
                            "    <tr>\n",
                            "      <th>199</th>\n",
                            "      <td>232.1</td>\n",
                            "      <td>8.6</td>\n",
                            "      <td>8.7</td>\n",
                            "      <td>18.4</td>\n",
                            "    </tr>\n",
                            "  </tbody>\n",
                            "</table>\n",
                            "<p>200 rows × 4 columns</p>\n",
                            "</div>"
                        ],
                        "text/plain": [
                            "        TV  Radio  Newspaper  Sales\n",
                            "0    230.1   37.8       69.2   22.1\n",
                            "1     44.5   39.3       45.1   10.4\n",
                            "2     17.2   45.9       69.3   12.0\n",
                            "3    151.5   41.3       58.5   16.5\n",
                            "4    180.8   10.8       58.4   17.9\n",
                            "..     ...    ...        ...    ...\n",
                            "195   38.2    3.7       13.8    7.6\n",
                            "196   94.2    4.9        8.1   14.0\n",
                            "197  177.0    9.3        6.4   14.8\n",
                            "198  283.6   42.0       66.2   25.5\n",
                            "199  232.1    8.6        8.7   18.4\n",
                            "\n",
                            "[200 rows x 4 columns]"
                        ]
                    },
                    "execution_count": 13,
                    "metadata": {},
                    "output_type": "execute_result"
                }
            ],
            "source": [
                "import pandas as pd\n",
                "df=pd.read_csv(r\"C:\\Users\\Naveen\\Desktop\\data sets\\advertising.csv\")\n",
                "df"
            ]
        },
        {
            "cell_type": "code",
            "execution_count": 14,
            "metadata": {},
            "outputs": [
                {
                    "data": {
                        "text/plain": [
                            "array([22.1, 10.4, 12. , 16.5, 17.9,  7.2, 11.8, 13.2,  4.8, 15.6, 12.6,\n",
                            "       17.4,  9.2, 13.7, 19. , 22.4, 12.5, 24.4, 11.3, 14.6, 18. , 17.5,\n",
                            "        5.6, 20.5,  9.7, 17. , 15. , 20.9, 18.9, 10.5, 21.4, 11.9, 13.2,\n",
                            "       17.4, 11.9, 17.8, 25.4, 14.7, 10.1, 21.5, 16.6, 17.1, 20.7, 17.9,\n",
                            "        8.5, 16.1, 10.6, 23.2, 19.8,  9.7, 16.4, 10.7, 22.6, 21.2, 20.2,\n",
                            "       23.7,  5.5, 13.2, 23.8, 18.4,  8.1, 24.2, 20.7, 14. , 16. , 11.3,\n",
                            "       11. , 13.4, 18.9, 22.3, 18.3, 12.4,  8.8, 11. , 17. ,  8.7,  6.9,\n",
                            "       14.2,  5.3, 11. , 11.8, 17.3, 11.3, 13.6, 21.7, 20.2, 12. , 16. ,\n",
                            "       12.9, 16.7, 14. ,  7.3, 19.4, 22.2, 11.5, 16.9, 16.7, 20.5, 25.4,\n",
                            "       17.2, 16.7, 23.8, 19.8, 19.7, 20.7, 15. ,  7.2, 12. ,  5.3, 19.8,\n",
                            "       18.4, 21.8, 17.1, 20.9, 14.6, 12.6, 12.2,  9.4, 15.9,  6.6, 15.5,\n",
                            "        7. , 16.6, 15.2, 19.7, 10.6,  6.6, 11.9, 24.7,  9.7,  1.6, 17.7,\n",
                            "        5.7, 19.6, 10.8, 11.6,  9.5, 20.8,  9.6, 20.7, 10.9, 19.2, 20.1,\n",
                            "       10.4, 12.3, 10.3, 18.2, 25.4, 10.9, 10.1, 16.1, 11.6, 16.6, 16. ,\n",
                            "       20.6,  3.2, 15.3, 10.1,  7.3, 12.9, 16.4, 13.3, 19.9, 18. , 11.9,\n",
                            "       16.9,  8. , 17.2, 17.1, 20. ,  8.4, 17.5,  7.6, 16.7, 16.5, 27. ,\n",
                            "       20.2, 16.7, 16.8, 17.6, 15.5, 17.2,  8.7, 26.2, 17.6, 22.6, 10.3,\n",
                            "       17.3, 20.9,  6.7, 10.8, 11.9,  5.9, 19.6, 17.3,  7.6, 14. , 14.8,\n",
                            "       25.5, 18.4])"
                        ]
                    },
                    "execution_count": 14,
                    "metadata": {},
                    "output_type": "execute_result"
                }
            ],
            "source": [
                "x=df.iloc[:,0:3].values\n",
                "y=df.iloc[:,3].values\n",
                "y"
            ]
        },
        {
            "cell_type": "code",
            "execution_count": 15,
            "metadata": {},
            "outputs": [],
            "source": [
                "from sklearn.linear_model import LinearRegression\n",
                "Lin=LinearRegression()"
            ]
        },
        {
            "cell_type": "code",
            "execution_count": 16,
            "metadata": {},
            "outputs": [
                {
                    "data": {
                        "text/plain": [
                            "LinearRegression()"
                        ]
                    },
                    "execution_count": 16,
                    "metadata": {},
                    "output_type": "execute_result"
                }
            ],
            "source": [
                "Lin.fit(x,y)"
            ]
        },
        {
            "cell_type": "code",
            "execution_count": 17,
            "metadata": {},
            "outputs": [],
            "source": [
                "pred_y=Lin.predict(x)\n"
            ]
        },
        {
            "cell_type": "code",
            "execution_count": 18,
            "metadata": {},
            "outputs": [],
            "source": [
                "from sklearn import metrics"
            ]
        },
        {
            "cell_type": "code",
            "execution_count": 19,
            "metadata": {},
            "outputs": [
                {
                    "data": {
                        "text/plain": [
                            "0.8623777967814794"
                        ]
                    },
                    "execution_count": 19,
                    "metadata": {},
                    "output_type": "execute_result"
                }
            ],
            "source": [
                "metrics.median_absolute_error(y,pred_y)"
            ]
        },
        {
            "cell_type": "code",
            "execution_count": 20,
            "metadata": {},
            "outputs": [
                {
                    "data": {
                        "text/html": [
                            "<div>\n",
                            "<style scoped>\n",
                            "    .dataframe tbody tr th:only-of-type {\n",
                            "        vertical-align: middle;\n",
                            "    }\n",
                            "\n",
                            "    .dataframe tbody tr th {\n",
                            "        vertical-align: top;\n",
                            "    }\n",
                            "\n",
                            "    .dataframe thead th {\n",
                            "        text-align: right;\n",
                            "    }\n",
                            "</style>\n",
                            "<table border=\"1\" class=\"dataframe\">\n",
                            "  <thead>\n",
                            "    <tr style=\"text-align: right;\">\n",
                            "      <th></th>\n",
                            "      <th>TV</th>\n",
                            "      <th>Radio</th>\n",
                            "      <th>Newspaper</th>\n",
                            "      <th>Sales</th>\n",
                            "    </tr>\n",
                            "  </thead>\n",
                            "  <tbody>\n",
                            "    <tr>\n",
                            "      <th>TV</th>\n",
                            "      <td>1.000000</td>\n",
                            "      <td>0.054809</td>\n",
                            "      <td>0.056648</td>\n",
                            "      <td>0.901208</td>\n",
                            "    </tr>\n",
                            "    <tr>\n",
                            "      <th>Radio</th>\n",
                            "      <td>0.054809</td>\n",
                            "      <td>1.000000</td>\n",
                            "      <td>0.354104</td>\n",
                            "      <td>0.349631</td>\n",
                            "    </tr>\n",
                            "    <tr>\n",
                            "      <th>Newspaper</th>\n",
                            "      <td>0.056648</td>\n",
                            "      <td>0.354104</td>\n",
                            "      <td>1.000000</td>\n",
                            "      <td>0.157960</td>\n",
                            "    </tr>\n",
                            "    <tr>\n",
                            "      <th>Sales</th>\n",
                            "      <td>0.901208</td>\n",
                            "      <td>0.349631</td>\n",
                            "      <td>0.157960</td>\n",
                            "      <td>1.000000</td>\n",
                            "    </tr>\n",
                            "  </tbody>\n",
                            "</table>\n",
                            "</div>"
                        ],
                        "text/plain": [
                            "                 TV     Radio  Newspaper     Sales\n",
                            "TV         1.000000  0.054809   0.056648  0.901208\n",
                            "Radio      0.054809  1.000000   0.354104  0.349631\n",
                            "Newspaper  0.056648  0.354104   1.000000  0.157960\n",
                            "Sales      0.901208  0.349631   0.157960  1.000000"
                        ]
                    },
                    "execution_count": 20,
                    "metadata": {},
                    "output_type": "execute_result"
                }
            ],
            "source": [
                "df.corr()"
            ]
        },
        {
            "cell_type": "markdown",
            "metadata": {},
            "source": [
                "liner regression with testing and training"
            ]
        },
        {
            "cell_type": "code",
            "execution_count": 21,
            "metadata": {},
            "outputs": [
                {
                    "data": {
                        "text/html": [
                            "<div>\n",
                            "<style scoped>\n",
                            "    .dataframe tbody tr th:only-of-type {\n",
                            "        vertical-align: middle;\n",
                            "    }\n",
                            "\n",
                            "    .dataframe tbody tr th {\n",
                            "        vertical-align: top;\n",
                            "    }\n",
                            "\n",
                            "    .dataframe thead th {\n",
                            "        text-align: right;\n",
                            "    }\n",
                            "</style>\n",
                            "<table border=\"1\" class=\"dataframe\">\n",
                            "  <thead>\n",
                            "    <tr style=\"text-align: right;\">\n",
                            "      <th></th>\n",
                            "      <th>YearsExperience</th>\n",
                            "      <th>Salary</th>\n",
                            "    </tr>\n",
                            "  </thead>\n",
                            "  <tbody>\n",
                            "    <tr>\n",
                            "      <th>0</th>\n",
                            "      <td>1.1</td>\n",
                            "      <td>39343</td>\n",
                            "    </tr>\n",
                            "    <tr>\n",
                            "      <th>1</th>\n",
                            "      <td>1.3</td>\n",
                            "      <td>46205</td>\n",
                            "    </tr>\n",
                            "    <tr>\n",
                            "      <th>2</th>\n",
                            "      <td>1.5</td>\n",
                            "      <td>37731</td>\n",
                            "    </tr>\n",
                            "    <tr>\n",
                            "      <th>3</th>\n",
                            "      <td>2.0</td>\n",
                            "      <td>43525</td>\n",
                            "    </tr>\n",
                            "    <tr>\n",
                            "      <th>4</th>\n",
                            "      <td>2.2</td>\n",
                            "      <td>39891</td>\n",
                            "    </tr>\n",
                            "    <tr>\n",
                            "      <th>5</th>\n",
                            "      <td>2.9</td>\n",
                            "      <td>56642</td>\n",
                            "    </tr>\n",
                            "    <tr>\n",
                            "      <th>6</th>\n",
                            "      <td>3.0</td>\n",
                            "      <td>60150</td>\n",
                            "    </tr>\n",
                            "    <tr>\n",
                            "      <th>7</th>\n",
                            "      <td>3.2</td>\n",
                            "      <td>54445</td>\n",
                            "    </tr>\n",
                            "    <tr>\n",
                            "      <th>8</th>\n",
                            "      <td>3.2</td>\n",
                            "      <td>64445</td>\n",
                            "    </tr>\n",
                            "    <tr>\n",
                            "      <th>9</th>\n",
                            "      <td>3.7</td>\n",
                            "      <td>57189</td>\n",
                            "    </tr>\n",
                            "    <tr>\n",
                            "      <th>10</th>\n",
                            "      <td>3.9</td>\n",
                            "      <td>63218</td>\n",
                            "    </tr>\n",
                            "    <tr>\n",
                            "      <th>11</th>\n",
                            "      <td>4.0</td>\n",
                            "      <td>55794</td>\n",
                            "    </tr>\n",
                            "    <tr>\n",
                            "      <th>12</th>\n",
                            "      <td>4.0</td>\n",
                            "      <td>56957</td>\n",
                            "    </tr>\n",
                            "    <tr>\n",
                            "      <th>13</th>\n",
                            "      <td>4.1</td>\n",
                            "      <td>57081</td>\n",
                            "    </tr>\n",
                            "    <tr>\n",
                            "      <th>14</th>\n",
                            "      <td>4.5</td>\n",
                            "      <td>61111</td>\n",
                            "    </tr>\n",
                            "    <tr>\n",
                            "      <th>15</th>\n",
                            "      <td>4.9</td>\n",
                            "      <td>67938</td>\n",
                            "    </tr>\n",
                            "    <tr>\n",
                            "      <th>16</th>\n",
                            "      <td>5.1</td>\n",
                            "      <td>66029</td>\n",
                            "    </tr>\n",
                            "    <tr>\n",
                            "      <th>17</th>\n",
                            "      <td>5.3</td>\n",
                            "      <td>83088</td>\n",
                            "    </tr>\n",
                            "    <tr>\n",
                            "      <th>18</th>\n",
                            "      <td>5.9</td>\n",
                            "      <td>81363</td>\n",
                            "    </tr>\n",
                            "    <tr>\n",
                            "      <th>19</th>\n",
                            "      <td>6.0</td>\n",
                            "      <td>93940</td>\n",
                            "    </tr>\n",
                            "    <tr>\n",
                            "      <th>20</th>\n",
                            "      <td>6.8</td>\n",
                            "      <td>91738</td>\n",
                            "    </tr>\n",
                            "    <tr>\n",
                            "      <th>21</th>\n",
                            "      <td>7.1</td>\n",
                            "      <td>98273</td>\n",
                            "    </tr>\n",
                            "    <tr>\n",
                            "      <th>22</th>\n",
                            "      <td>7.9</td>\n",
                            "      <td>101302</td>\n",
                            "    </tr>\n",
                            "    <tr>\n",
                            "      <th>23</th>\n",
                            "      <td>8.2</td>\n",
                            "      <td>113812</td>\n",
                            "    </tr>\n",
                            "    <tr>\n",
                            "      <th>24</th>\n",
                            "      <td>8.7</td>\n",
                            "      <td>109431</td>\n",
                            "    </tr>\n",
                            "    <tr>\n",
                            "      <th>25</th>\n",
                            "      <td>9.0</td>\n",
                            "      <td>105582</td>\n",
                            "    </tr>\n",
                            "    <tr>\n",
                            "      <th>26</th>\n",
                            "      <td>9.5</td>\n",
                            "      <td>116969</td>\n",
                            "    </tr>\n",
                            "    <tr>\n",
                            "      <th>27</th>\n",
                            "      <td>9.6</td>\n",
                            "      <td>112635</td>\n",
                            "    </tr>\n",
                            "    <tr>\n",
                            "      <th>28</th>\n",
                            "      <td>10.3</td>\n",
                            "      <td>122391</td>\n",
                            "    </tr>\n",
                            "    <tr>\n",
                            "      <th>29</th>\n",
                            "      <td>10.5</td>\n",
                            "      <td>121872</td>\n",
                            "    </tr>\n",
                            "  </tbody>\n",
                            "</table>\n",
                            "</div>"
                        ],
                        "text/plain": [
                            "    YearsExperience  Salary\n",
                            "0               1.1   39343\n",
                            "1               1.3   46205\n",
                            "2               1.5   37731\n",
                            "3               2.0   43525\n",
                            "4               2.2   39891\n",
                            "5               2.9   56642\n",
                            "6               3.0   60150\n",
                            "7               3.2   54445\n",
                            "8               3.2   64445\n",
                            "9               3.7   57189\n",
                            "10              3.9   63218\n",
                            "11              4.0   55794\n",
                            "12              4.0   56957\n",
                            "13              4.1   57081\n",
                            "14              4.5   61111\n",
                            "15              4.9   67938\n",
                            "16              5.1   66029\n",
                            "17              5.3   83088\n",
                            "18              5.9   81363\n",
                            "19              6.0   93940\n",
                            "20              6.8   91738\n",
                            "21              7.1   98273\n",
                            "22              7.9  101302\n",
                            "23              8.2  113812\n",
                            "24              8.7  109431\n",
                            "25              9.0  105582\n",
                            "26              9.5  116969\n",
                            "27              9.6  112635\n",
                            "28             10.3  122391\n",
                            "29             10.5  121872"
                        ]
                    },
                    "execution_count": 21,
                    "metadata": {},
                    "output_type": "execute_result"
                }
            ],
            "source": [
                "import pandas as pd\n",
                "df = pd.read_csv(r\"C:\\Users\\Naveen\\Desktop\\data sets\\Salary_Data.csv\")\n",
                "df\n"
            ]
        },
        {
            "cell_type": "code",
            "execution_count": 22,
            "metadata": {},
            "outputs": [
                {
                    "data": {
                        "text/plain": [
                            "(30, 1)"
                        ]
                    },
                    "execution_count": 22,
                    "metadata": {},
                    "output_type": "execute_result"
                }
            ],
            "source": [
                "x=df.iloc[:,0].values.reshape(-1,1)\n",
                "y=df.iloc[:,1].values\n",
                "x.shape"
            ]
        },
        {
            "cell_type": "code",
            "execution_count": 23,
            "metadata": {},
            "outputs": [],
            "source": [
                "from sklearn.model_selection import train_test_split"
            ]
        },
        {
            "cell_type": "code",
            "execution_count": 24,
            "metadata": {},
            "outputs": [],
            "source": [
                "x_train,x_test,y_train,y_test=train_test_split(x,y,test_size=0.2,random_state=0)\n"
            ]
        },
        {
            "cell_type": "code",
            "execution_count": 25,
            "metadata": {},
            "outputs": [
                {
                    "data": {
                        "text/plain": [
                            "array([[ 1.5],\n",
                            "       [10.3],\n",
                            "       [ 4.1],\n",
                            "       [ 3.9],\n",
                            "       [ 9.5],\n",
                            "       [ 8.7]])"
                        ]
                    },
                    "execution_count": 25,
                    "metadata": {},
                    "output_type": "execute_result"
                }
            ],
            "source": [
                "x_test"
            ]
        },
        {
            "cell_type": "code",
            "execution_count": 26,
            "metadata": {},
            "outputs": [],
            "source": [
                "from sklearn.linear_model import LinearRegression"
            ]
        },
        {
            "cell_type": "code",
            "execution_count": 27,
            "metadata": {},
            "outputs": [],
            "source": [
                "lin=LinearRegression()\n"
            ]
        },
        {
            "cell_type": "code",
            "execution_count": 28,
            "metadata": {},
            "outputs": [
                {
                    "data": {
                        "text/plain": [
                            "LinearRegression()"
                        ]
                    },
                    "execution_count": 28,
                    "metadata": {},
                    "output_type": "execute_result"
                }
            ],
            "source": [
                "lin.fit(x_train,y_train)"
            ]
        },
        {
            "cell_type": "code",
            "execution_count": 29,
            "metadata": {},
            "outputs": [],
            "source": [
                "y_pred=lin.predict(x_test)"
            ]
        },
        {
            "cell_type": "code",
            "execution_count": 30,
            "metadata": {},
            "outputs": [
                {
                    "data": {
                        "text/plain": [
                            "array([ 40748.96184072, 122699.62295594,  64961.65717022,  63099.14214487,\n",
                            "       115249.56285456, 107799.50275317])"
                        ]
                    },
                    "execution_count": 30,
                    "metadata": {},
                    "output_type": "execute_result"
                }
            ],
            "source": [
                "y_pred"
            ]
        },
        {
            "cell_type": "code",
            "execution_count": 31,
            "metadata": {},
            "outputs": [
                {
                    "data": {
                        "text/plain": [
                            "array([ 37731, 122391,  57081,  63218, 116969, 109431], dtype=int64)"
                        ]
                    },
                    "execution_count": 31,
                    "metadata": {},
                    "output_type": "execute_result"
                }
            ],
            "source": [
                "y_test"
            ]
        },
        {
            "cell_type": "code",
            "execution_count": 32,
            "metadata": {},
            "outputs": [],
            "source": [
                "import numpy as np"
            ]
        },
        {
            "cell_type": "code",
            "execution_count": 33,
            "metadata": {},
            "outputs": [
                {
                    "data": {
                        "text/plain": [
                            "2446.1723690465064"
                        ]
                    },
                    "execution_count": 33,
                    "metadata": {},
                    "output_type": "execute_result"
                }
            ],
            "source": [
                "np.abs(y_test-y_pred).mean()"
            ]
        },
        {
            "cell_type": "code",
            "execution_count": 34,
            "metadata": {},
            "outputs": [],
            "source": [
                "from sklearn import metrics"
            ]
        },
        {
            "cell_type": "code",
            "execution_count": 35,
            "metadata": {},
            "outputs": [
                {
                    "data": {
                        "text/plain": [
                            "2446.1723690465064"
                        ]
                    },
                    "execution_count": 35,
                    "metadata": {},
                    "output_type": "execute_result"
                }
            ],
            "source": [
                "metrics.mean_absolute_error(y_test,y_pred)"
            ]
        },
        {
            "cell_type": "code",
            "execution_count": 36,
            "metadata": {},
            "outputs": [
                {
                    "data": {
                        "text/plain": [
                            "array([77999.26234764])"
                        ]
                    },
                    "execution_count": 36,
                    "metadata": {},
                    "output_type": "execute_result"
                }
            ],
            "source": [
                "lin.predict([[5.5]])"
            ]
        },
        {
            "cell_type": "code",
            "execution_count": null,
            "metadata": {},
            "outputs": [],
            "source": []
        }
    ],
    "metadata": {
        "kernelspec": {
            "display_name": "base",
            "language": "python",
            "name": "python3"
        },
        "language_info": {
            "codemirror_mode": {
                "name": "ipython",
                "version": 3
            },
            "file_extension": ".py",
            "mimetype": "text/x-python",
            "name": "python",
            "nbconvert_exporter": "python",
            "pygments_lexer": "ipython3",
            "version": "3.9.13"
        },
        "orig_nbformat": 4,
        "vscode": {
            "interpreter": {
                "hash": "5642794481ccc1cb08f0532ab7509fc22e33a43591db396b69781dc06683d700"
            }
        }
    },
    "nbformat": 4,
    "nbformat_minor": 2
}
