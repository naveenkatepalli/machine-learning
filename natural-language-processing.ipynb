{
    "cells": [
        {
            "cell_type": "code",
            "execution_count": 5,
            "source": [
                "import numpy as np\r\n",
                "import pandas as pd\r\n",
                "import matplotlib.pyplot as plt\r\n",
                "df = pd.read_csv(r\"C:\\Users\\Naveen\\Desktop\\data sets\\Restaurant_Reviews.tsv\",delimiter='\\t',quoting=3)\r\n",
                "df\r\n"
            ],
            "outputs": [
                {
                    "output_type": "execute_result",
                    "data": {
                        "text/plain": [
                            "                                                Review  Liked\n",
                            "0                             Wow... Loved this place.      1\n",
                            "1                                   Crust is not good.      0\n",
                            "2            Not tasty and the texture was just nasty.      0\n",
                            "3    Stopped by during the late May bank holiday of...      1\n",
                            "4    The selection on the menu was great and so wer...      1\n",
                            "..                                                 ...    ...\n",
                            "995  I think food should have flavor and texture an...      0\n",
                            "996                           Appetite instantly gone.      0\n",
                            "997  Overall I was not impressed and would not go b...      0\n",
                            "998  The whole experience was underwhelming, and I ...      0\n",
                            "999  Then, as if I hadn't wasted enough of my life ...      0\n",
                            "\n",
                            "[1000 rows x 2 columns]"
                        ],
                        "text/html": [
                            "<div>\n",
                            "<style scoped>\n",
                            "    .dataframe tbody tr th:only-of-type {\n",
                            "        vertical-align: middle;\n",
                            "    }\n",
                            "\n",
                            "    .dataframe tbody tr th {\n",
                            "        vertical-align: top;\n",
                            "    }\n",
                            "\n",
                            "    .dataframe thead th {\n",
                            "        text-align: right;\n",
                            "    }\n",
                            "</style>\n",
                            "<table border=\"1\" class=\"dataframe\">\n",
                            "  <thead>\n",
                            "    <tr style=\"text-align: right;\">\n",
                            "      <th></th>\n",
                            "      <th>Review</th>\n",
                            "      <th>Liked</th>\n",
                            "    </tr>\n",
                            "  </thead>\n",
                            "  <tbody>\n",
                            "    <tr>\n",
                            "      <th>0</th>\n",
                            "      <td>Wow... Loved this place.</td>\n",
                            "      <td>1</td>\n",
                            "    </tr>\n",
                            "    <tr>\n",
                            "      <th>1</th>\n",
                            "      <td>Crust is not good.</td>\n",
                            "      <td>0</td>\n",
                            "    </tr>\n",
                            "    <tr>\n",
                            "      <th>2</th>\n",
                            "      <td>Not tasty and the texture was just nasty.</td>\n",
                            "      <td>0</td>\n",
                            "    </tr>\n",
                            "    <tr>\n",
                            "      <th>3</th>\n",
                            "      <td>Stopped by during the late May bank holiday of...</td>\n",
                            "      <td>1</td>\n",
                            "    </tr>\n",
                            "    <tr>\n",
                            "      <th>4</th>\n",
                            "      <td>The selection on the menu was great and so wer...</td>\n",
                            "      <td>1</td>\n",
                            "    </tr>\n",
                            "    <tr>\n",
                            "      <th>...</th>\n",
                            "      <td>...</td>\n",
                            "      <td>...</td>\n",
                            "    </tr>\n",
                            "    <tr>\n",
                            "      <th>995</th>\n",
                            "      <td>I think food should have flavor and texture an...</td>\n",
                            "      <td>0</td>\n",
                            "    </tr>\n",
                            "    <tr>\n",
                            "      <th>996</th>\n",
                            "      <td>Appetite instantly gone.</td>\n",
                            "      <td>0</td>\n",
                            "    </tr>\n",
                            "    <tr>\n",
                            "      <th>997</th>\n",
                            "      <td>Overall I was not impressed and would not go b...</td>\n",
                            "      <td>0</td>\n",
                            "    </tr>\n",
                            "    <tr>\n",
                            "      <th>998</th>\n",
                            "      <td>The whole experience was underwhelming, and I ...</td>\n",
                            "      <td>0</td>\n",
                            "    </tr>\n",
                            "    <tr>\n",
                            "      <th>999</th>\n",
                            "      <td>Then, as if I hadn't wasted enough of my life ...</td>\n",
                            "      <td>0</td>\n",
                            "    </tr>\n",
                            "  </tbody>\n",
                            "</table>\n",
                            "<p>1000 rows × 2 columns</p>\n",
                            "</div>"
                        ]
                    },
                    "metadata": {},
                    "execution_count": 5
                }
            ],
            "metadata": {}
        },
        {
            "cell_type": "code",
            "execution_count": 8,
            "source": [
                "# -- loved, love, loving etc - stemming\r\n",
                "from nltk.stem.porter import PorterStemmer\r\n",
                "from nltk.corpus import stopwords  # now import\r\n",
                "import re  # -- regular rexpression\r\n",
                "import nltk  # Natural language toolkit\r\n",
                "nltk.download('stopwords')  # stopwords -- words not helpful for review\r\n",
                "corpus = []  # -- to get all clean reviews\r\n",
                "for i in range(0, 1000):  # All the 1000 reviews\r\n",
                "  # ignoring evrythng wch isnt alphabet\r\n",
                "  review = re.sub('[^a-zA-Z]', ' ', df['Review'][i])\r\n",
                "  review = review.lower()\r\n",
                "  review = review.split()  # for stemming we need to split each word of review\r\n",
                "  ps = PorterStemmer()\r\n",
                "  all_stopwords = stopwords.words('english')\r\n",
                "  all_stopwords.remove('not')\r\n",
                "  # review is now a list of different words\r\n",
                "  review = [ps.stem(word) for word in review if not word in set(\r\n",
                "      all_stopwords)]  # stemming except stpwrd\r\n",
                "  #review = [ps.stem(word) for word in review if not word in set(stopwords.words('english'))]\r\n",
                "  review = ' '.join(review)  # join all the words of review as a string\r\n",
                "  corpus.append(review)\r\n"
            ],
            "outputs": [
                {
                    "output_type": "stream",
                    "name": "stderr",
                    "text": [
                        "[nltk_data] Downloading package stopwords to\n",
                        "[nltk_data]     C:\\Users\\Naveen\\AppData\\Roaming\\nltk_data...\n",
                        "[nltk_data]   Package stopwords is already up-to-date!\n"
                    ]
                }
            ],
            "metadata": {}
        },
        {
            "cell_type": "code",
            "execution_count": 10,
            "source": [
                "#corpus"
            ],
            "outputs": [],
            "metadata": {}
        },
        {
            "cell_type": "code",
            "execution_count": 12,
            "source": [
                "from sklearn.feature_extraction.text import CountVectorizer#bag of words\r\n",
                "cv=CountVectorizer(max_features=1500)#ignoring words appered once\r\n",
                "x=cv.fit_transform(corpus).toarray()\r\n",
                "y=df.iloc[:,-1].values"
            ],
            "outputs": [],
            "metadata": {}
        },
        {
            "cell_type": "code",
            "execution_count": 13,
            "source": [
                "len(x[0])"
            ],
            "outputs": [
                {
                    "output_type": "execute_result",
                    "data": {
                        "text/plain": [
                            "1500"
                        ]
                    },
                    "metadata": {},
                    "execution_count": 13
                }
            ],
            "metadata": {}
        },
        {
            "cell_type": "code",
            "execution_count": 15,
            "source": [
                "from sklearn.model_selection import train_test_split"
            ],
            "outputs": [],
            "metadata": {}
        },
        {
            "cell_type": "code",
            "execution_count": 17,
            "source": [
                "x_train,x_test,y_train,y_test=train_test_split(x,y,test_size=0.2,random_state=0)"
            ],
            "outputs": [],
            "metadata": {}
        },
        {
            "cell_type": "code",
            "execution_count": 21,
            "source": [
                "from sklearn.naive_bayes import GaussianNB\r\n",
                "classifier=GaussianNB()\r\n",
                "classifier.fit(x_train,y_train)"
            ],
            "outputs": [
                {
                    "output_type": "execute_result",
                    "data": {
                        "text/plain": [
                            "GaussianNB()"
                        ]
                    },
                    "metadata": {},
                    "execution_count": 21
                }
            ],
            "metadata": {}
        },
        {
            "cell_type": "code",
            "execution_count": 24,
            "source": [
                "y_pred=classifier.predict(x_test)\r\n",
                "#print(np.concatenate((y_pred.reshape(len(y_pred), 1), y_test.reshape(len(y_test), 1)), 1))\r\n"
            ],
            "outputs": [],
            "metadata": {}
        },
        {
            "cell_type": "code",
            "execution_count": 25,
            "source": [
                "from sklearn.metrics import confusion_matrix, accuracy_score\r\n",
                "cm = confusion_matrix(y_test, y_pred)\r\n",
                "print(cm)\r\n",
                "accuracy_score(y_test, y_pred)\r\n"
            ],
            "outputs": [
                {
                    "output_type": "stream",
                    "name": "stdout",
                    "text": [
                        "[[55 42]\n",
                        " [12 91]]\n"
                    ]
                },
                {
                    "output_type": "execute_result",
                    "data": {
                        "text/plain": [
                            "0.73"
                        ]
                    },
                    "metadata": {},
                    "execution_count": 25
                }
            ],
            "metadata": {}
        },
        {
            "cell_type": "code",
            "execution_count": 26,
            "source": [
                "x_test"
            ],
            "outputs": [
                {
                    "output_type": "execute_result",
                    "data": {
                        "text/plain": [
                            "array([[0, 0, 0, ..., 0, 0, 0],\n",
                            "       [0, 0, 0, ..., 0, 0, 0],\n",
                            "       [0, 0, 0, ..., 0, 0, 0],\n",
                            "       ...,\n",
                            "       [0, 0, 0, ..., 0, 0, 0],\n",
                            "       [0, 0, 0, ..., 0, 0, 0],\n",
                            "       [0, 0, 0, ..., 0, 0, 0]], dtype=int64)"
                        ]
                    },
                    "metadata": {},
                    "execution_count": 26
                }
            ],
            "metadata": {}
        },
        {
            "cell_type": "code",
            "execution_count": 27,
            "source": [
                "new_review = 'I love this restaurant so much'\r\n",
                "new_review = re.sub('[^a-zA-Z]', ' ', new_review)\r\n",
                "new_review = new_review.lower()\r\n",
                "new_review = new_review.split()\r\n",
                "ps = PorterStemmer()\r\n",
                "all_stopwords = stopwords.words('english')\r\n",
                "all_stopwords.remove('not')\r\n",
                "new_review = [ps.stem(word)\r\n",
                "              for word in new_review if not word in set(all_stopwords)]\r\n",
                "new_review = ' '.join(new_review)\r\n",
                "new_corpus = [new_review]\r\n",
                "new_X_test = cv.transform(new_corpus).toarray()\r\n",
                "new_y_pred = classifier.predict(new_X_test)\r\n",
                "print(new_y_pred)\r\n"
            ],
            "outputs": [
                {
                    "output_type": "stream",
                    "name": "stdout",
                    "text": [
                        "[1]\n"
                    ]
                }
            ],
            "metadata": {}
        },
        {
            "cell_type": "code",
            "execution_count": null,
            "source": [],
            "outputs": [],
            "metadata": {}
        }
    ],
    "metadata": {
        "orig_nbformat": 4,
        "language_info": {
            "name": "python",
            "version": "3.8.8",
            "mimetype": "text/x-python",
            "codemirror_mode": {
                "name": "ipython",
                "version": 3
            },
            "pygments_lexer": "ipython3",
            "nbconvert_exporter": "python",
            "file_extension": ".py"
        },
        "kernelspec": {
            "name": "python3",
            "display_name": "Python 3.8.8 64-bit ('base': conda)"
        },
        "interpreter": {
            "hash": "edcff60ab79fcf0c080d34c80972e1cfa458862cf279c475c074d89b44b2cf7e"
        }
    },
    "nbformat": 4,
    "nbformat_minor": 2
}